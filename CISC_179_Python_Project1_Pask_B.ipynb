{
  "nbformat": 4,
  "nbformat_minor": 0,
  "metadata": {
    "colab": {
      "provenance": [],
      "authorship_tag": "ABX9TyNaF20Hl3vT0ERAOdBgLbkN",
      "include_colab_link": true
    },
    "kernelspec": {
      "name": "python3",
      "display_name": "Python 3"
    },
    "language_info": {
      "name": "python"
    }
  },
  "cells": [
    {
      "cell_type": "markdown",
      "metadata": {
        "id": "view-in-github",
        "colab_type": "text"
      },
      "source": [
        "<a href=\"https://colab.research.google.com/github/stellarnik/assignments/blob/main/CISC_179_Python_Project1_Pask_B.ipynb\" target=\"_parent\"><img src=\"https://colab.research.google.com/assets/colab-badge.svg\" alt=\"Open In Colab\"/></a>"
      ]
    },
    {
      "cell_type": "code",
      "execution_count": 32,
      "metadata": {
        "colab": {
          "base_uri": "https://localhost:8080/",
          "height": 436
        },
        "id": "3ZavPfkGvHsF",
        "outputId": "b78dc392-ac62-441b-809d-faec4f5ab678"
      },
      "outputs": [
        {
          "name": "stdout",
          "output_type": "stream",
          "text": [
            "Think of any number between 1 and 100, or think of a character between A-Z or a-z\n",
            "Enter 1 for number game, 2 for A-Z, or 3 for a-z game1\n",
            "1\n",
            "Is your number greater(>), equal(=), or less(<) than  78\n",
            "please answer(<,=,>)<\n"
          ]
        },
        {
          "output_type": "error",
          "ename": "UnboundLocalError",
          "evalue": "cannot access local variable 'range' where it is not associated with a value",
          "traceback": [
            "\u001b[0;31m---------------------------------------------------------------------------\u001b[0m",
            "\u001b[0;31mUnboundLocalError\u001b[0m                         Traceback (most recent call last)",
            "\u001b[0;32m<ipython-input-32-2dff249da89c>\u001b[0m in \u001b[0;36m<cell line: 0>\u001b[0;34m()\u001b[0m\n\u001b[1;32m     54\u001b[0m       \u001b[0mprint\u001b[0m\u001b[0;34m(\u001b[0m\u001b[0;34m\"Is your character before(<), equal(=), or after(>) \"\u001b[0m\u001b[0;34m,\u001b[0m \u001b[0mcrt\u001b[0m\u001b[0;34m(\u001b[0m\u001b[0minterval\u001b[0m\u001b[0;34m.\u001b[0m\u001b[0mmid_range\u001b[0m\u001b[0;34m)\u001b[0m\u001b[0;34m)\u001b[0m\u001b[0;34m\u001b[0m\u001b[0;34m\u001b[0m\u001b[0m\n\u001b[1;32m     55\u001b[0m     \u001b[0msign\u001b[0m \u001b[0;34m=\u001b[0m \u001b[0minput\u001b[0m\u001b[0;34m(\u001b[0m\u001b[0;34m\"please answer(<,=,>)\"\u001b[0m\u001b[0;34m,\u001b[0m \u001b[0;34m)\u001b[0m\u001b[0;34m\u001b[0m\u001b[0;34m\u001b[0m\u001b[0m\n\u001b[0;32m---> 56\u001b[0;31m     \u001b[0mCurrent_range\u001b[0m \u001b[0;34m=\u001b[0m \u001b[0minterval\u001b[0m\u001b[0;34m(\u001b[0m\u001b[0msign\u001b[0m\u001b[0;34m,\u001b[0m \u001b[0mgame\u001b[0m\u001b[0;34m)\u001b[0m\u001b[0;34m\u001b[0m\u001b[0;34m\u001b[0m\u001b[0m\n\u001b[0m\u001b[1;32m     57\u001b[0m     \u001b[0mCurrent_range\u001b[0m \u001b[0;34m=\u001b[0m \u001b[0mCurrent_range\u001b[0m\u001b[0;34m.\u001b[0m\u001b[0mget_range\u001b[0m\u001b[0;34m(\u001b[0m\u001b[0msign\u001b[0m\u001b[0;34m,\u001b[0m \u001b[0mgame\u001b[0m\u001b[0;34m)\u001b[0m\u001b[0;34m\u001b[0m\u001b[0;34m\u001b[0m\u001b[0m\n\u001b[1;32m     58\u001b[0m \u001b[0;34m\u001b[0m\u001b[0m\n",
            "\u001b[0;32m<ipython-input-32-2dff249da89c>\u001b[0m in \u001b[0;36m__init__\u001b[0;34m(self, sign, gameType)\u001b[0m\n\u001b[1;32m     25\u001b[0m             \u001b[0mrange\u001b[0m \u001b[0;34m=\u001b[0m \u001b[0;34m[\u001b[0m\u001b[0;36m97\u001b[0m\u001b[0;34m,\u001b[0m \u001b[0;36m123\u001b[0m\u001b[0;34m]\u001b[0m\u001b[0;34m\u001b[0m\u001b[0;34m\u001b[0m\u001b[0m\n\u001b[1;32m     26\u001b[0m         \u001b[0mmid_range\u001b[0m \u001b[0;34m=\u001b[0m \u001b[0mmath\u001b[0m\u001b[0;34m.\u001b[0m\u001b[0mfloor\u001b[0m \u001b[0;34m(\u001b[0m\u001b[0;34m(\u001b[0m\u001b[0mself\u001b[0m\u001b[0;34m.\u001b[0m\u001b[0mrange\u001b[0m\u001b[0;34m[\u001b[0m\u001b[0;36m0\u001b[0m\u001b[0;34m]\u001b[0m \u001b[0;34m+\u001b[0m \u001b[0mself\u001b[0m\u001b[0;34m.\u001b[0m\u001b[0mrange\u001b[0m\u001b[0;34m[\u001b[0m\u001b[0;36m1\u001b[0m\u001b[0;34m]\u001b[0m\u001b[0;34m)\u001b[0m \u001b[0;34m/\u001b[0m \u001b[0;36m2\u001b[0m\u001b[0;34m)\u001b[0m\u001b[0;34m\u001b[0m\u001b[0;34m\u001b[0m\u001b[0m\n\u001b[0;32m---> 27\u001b[0;31m         \u001b[0mrange_size\u001b[0m \u001b[0;34m=\u001b[0m \u001b[0mrange\u001b[0m\u001b[0;34m[\u001b[0m\u001b[0;36m1\u001b[0m\u001b[0;34m]\u001b[0m \u001b[0;34m-\u001b[0m \u001b[0mrange\u001b[0m\u001b[0;34m[\u001b[0m\u001b[0;36m0\u001b[0m\u001b[0;34m]\u001b[0m\u001b[0;34m\u001b[0m\u001b[0;34m\u001b[0m\u001b[0m\n\u001b[0m\u001b[1;32m     28\u001b[0m     \u001b[0;32mdef\u001b[0m \u001b[0mget_range\u001b[0m\u001b[0;34m(\u001b[0m\u001b[0mself\u001b[0m\u001b[0;34m,\u001b[0m \u001b[0msign\u001b[0m\u001b[0;34m,\u001b[0m \u001b[0mgameType\u001b[0m\u001b[0;34m)\u001b[0m\u001b[0;34m:\u001b[0m \u001b[0;31m#method of the class that reassigns the range and the midpoint based on user response >,<,=\u001b[0m\u001b[0;34m\u001b[0m\u001b[0;34m\u001b[0m\u001b[0m\n\u001b[1;32m     29\u001b[0m         \u001b[0;32mif\u001b[0m \u001b[0msign\u001b[0m \u001b[0;34m==\u001b[0m \u001b[0;34m\"=\"\u001b[0m \u001b[0;34m:\u001b[0m\u001b[0;34m\u001b[0m\u001b[0;34m\u001b[0m\u001b[0m\n",
            "\u001b[0;31mUnboundLocalError\u001b[0m: cannot access local variable 'range' where it is not associated with a value"
          ]
        }
      ],
      "source": [
        "# A Python program that plays the numbers and letters guessing game\n",
        "import math\n",
        "print(\"Think of any number between 1 and 100, or think of a character between A-Z or a-z\")\n",
        "game = \"0\"\n",
        "while game != \"1\" and game != \"2\" and game != \"3\":\n",
        "  game = input(\"Enter 1 for number game, 2 for A-Z, or 3 for a-z game\",  )\n",
        "  print(game)\n",
        "class SignError(Exception):\n",
        "    pass\n",
        "class interval:\n",
        "    accept_sign = [\">\", \"<\", \"=\"] # list of acceptable characters/user responses\n",
        "    counter = 0\n",
        "    range = [65,91] #list to keep track of the range\n",
        "    mid_range = math.floor ((range[0] + range[1]) / 2) #midpoint of the range\n",
        "    range_size = range[1] - range[0]\n",
        "    mid_range_list = [] #list to keep track of questioned numbers\n",
        "    def __init__(self, sign, gameType):\n",
        "        if sign not in interval.accept_sign:\n",
        "            raise SignError\n",
        "        if gameType == \"1\":\n",
        "            self.range = [0, 101]\n",
        "        elif gameType == \"2\":\n",
        "            range = [65, 91]\n",
        "        elif gameType == \"3\":\n",
        "            range = [97, 123]\n",
        "        mid_range = math.floor ((self.range[0] + self.range[1]) / 2)\n",
        "        range_size = range[1] - range[0]\n",
        "    def get_range(self, sign, gameType): #method of the class that reassigns the range and the midpoint based on user response >,<,=\n",
        "        if sign == \"=\" :\n",
        "            interval.counter += 1\n",
        "            return interval.counter\n",
        "            exit()\n",
        "        elif sign == \">\":\n",
        "            interval.range[0] = interval.mid_range #previous midpoint is now assigned to the beginning of the range\n",
        "            interval.mid_range = math.floor((interval.range[0] + interval.range[1]) / 2) #new midpoint is calculated\n",
        "            interval.range_size = interval.range[1] - interval.range[0] #difference between end and beginning of the range\n",
        "            interval.mid_range_list.append(interval.mid_range)\n",
        "            interval.counter += 1\n",
        "            return interval.counter\n",
        "        elif sign == \"<\":\n",
        "            interval.range[1] = interval.mid_range #previous midpoint is now assigned to be the end of the range\n",
        "            interval.mid_range = math.floor((interval.range[0] + interval.range[1]) / 2) #new midpoint is calculated\n",
        "            interval.range_size = interval.range[1] - interval.range[0]\n",
        "            interval.mid_range_list.append(interval.mid_range)\n",
        "            interval.counter += 1\n",
        "            return interval.counter\n",
        "        return interval.mid_range\n",
        "\n",
        "while True: #continues loop prompting for the user input\n",
        "  try:\n",
        "    if game == \"1\":\n",
        "      print(\"Is your number greater(>), equal(=), or less(<) than \", interval.mid_range)\n",
        "    elif game == \"2\" or game == \"3\":\n",
        "      print(\"Is your character before(<), equal(=), or after(>) \", crt(interval.mid_range))\n",
        "    sign = input(\"please answer(<,=,>)\", )\n",
        "    Current_range = interval(sign, game)\n",
        "    Current_range = Current_range.get_range(sign, game)\n",
        "\n",
        "    if sign == \"=\": #loop breaks when user enters =.\n",
        "      print(\"I guessed your number. It is\", interval.mid_range, \"It took me \", interval.counter, \"steps\")\n",
        "      break\n",
        "    elif interval.range_size <= 2 and interval.mid_range_list.count(interval.mid_range)<2: #loop breaks when difference between end and the beginning of the interval <=2, the numer can be caculated\n",
        "      print(\"I guessed your number. It is\", interval.mid_range,\". It took me \",interval.counter, \"steps.\")\n",
        "      break\n",
        "    elif interval.mid_range_list.count(interval.mid_range)==2: #loop breaks when user did not give correct answer\n",
        "      print(\"I already asked about\",interval.mid_range,\". You need to be consistent and give correct answers! This round does not count.\")\n",
        "      interval.mid_range_list.clear()\n",
        "      break\n",
        "      continue\n",
        "  except SignError: #error if user didn't enter the correct sign >,<,=\n",
        "    print(\"Sorry, you have entered a wrong sign.\")\n",
        "    continue\n"
      ]
    }
  ]
}