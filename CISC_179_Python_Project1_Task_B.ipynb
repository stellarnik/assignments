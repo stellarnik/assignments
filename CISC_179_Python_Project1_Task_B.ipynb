{
  "nbformat": 4,
  "nbformat_minor": 0,
  "metadata": {
    "colab": {
      "provenance": [],
      "authorship_tag": "ABX9TyOEuL6HYgmTHPhGnOQF/1CB",
      "include_colab_link": true
    },
    "kernelspec": {
      "name": "python3",
      "display_name": "Python 3"
    },
    "language_info": {
      "name": "python"
    }
  },
  "cells": [
    {
      "cell_type": "markdown",
      "metadata": {
        "id": "view-in-github",
        "colab_type": "text"
      },
      "source": [
        "<a href=\"https://colab.research.google.com/github/stellarnik/assignments/blob/main/CISC_179_Python_Project1_Task_B.ipynb\" target=\"_parent\"><img src=\"https://colab.research.google.com/assets/colab-badge.svg\" alt=\"Open In Colab\"/></a>"
      ]
    },
    {
      "cell_type": "code",
      "execution_count": 3,
      "metadata": {
        "colab": {
          "base_uri": "https://localhost:8080/"
        },
        "id": "3ZavPfkGvHsF",
        "outputId": "3184049f-9927-4db6-f6b0-bdf876d69b2a"
      },
      "outputs": [
        {
          "output_type": "stream",
          "name": "stdout",
          "text": [
            "Think of any number between 1 and 100, or think of a character between A-Z or a-z\n",
            "Enter 1 for number game, 2 for A-Z, or 3 for a-z game1\n",
            "1\n",
            "Is your number greater(>), equal(=), or less(<) than  50\n",
            "please answer(<,=,>)>\n",
            "[0, 101]\n",
            "50\n",
            "Is your number greater(>), equal(=), or less(<) than  75\n",
            "please answer(<,=,>)<\n",
            "[50, 101]\n",
            "75\n",
            "Is your number greater(>), equal(=), or less(<) than  62\n",
            "please answer(<,=,>)>\n",
            "[50, 75]\n",
            "62\n",
            "Is your number greater(>), equal(=), or less(<) than  68\n",
            "please answer(<,=,>)<\n",
            "[62, 75]\n",
            "68\n",
            "Is your number greater(>), equal(=), or less(<) than  65\n",
            "please answer(<,=,>)>\n",
            "[62, 68]\n",
            "65\n",
            "Is your number greater(>), equal(=), or less(<) than  66\n",
            "please answer(<,=,>)>\n",
            "[65, 68]\n",
            "66\n",
            "I guessed your number. It is 67 . It took me  6 steps\n"
          ]
        }
      ],
      "source": [
        "# A Python program that plays the numbers and letters guessing game\n",
        "import math\n",
        "print(\"Think of any number between 1 and 100, or think of a character between A-Z or a-z\")\n",
        "game = \"0\"\n",
        "while game != \"1\" and game != \"2\" and game != \"3\": #this loop for users to choose the game\n",
        "  game = input(\"Enter 1 for number game, 2 for A-Z, or 3 for a-z game\",  )\n",
        "class SignError(Exception):\n",
        "    pass\n",
        "class interval:\n",
        "    accept_sign = [\">\", \"<\", \"=\"] # list of acceptable characters/user responses\n",
        "    counter = 0\n",
        "    if game == \"1\":\n",
        "        range = [0, 101] #list to define initial range range\n",
        "    elif game == \"2\":\n",
        "        range = [65,91]\n",
        "    elif game == \"3\":\n",
        "        range = [97,123]\n",
        "    mid_range = math.floor ((range[0] + range[1]) / 2) #midpoint of the range\n",
        "    range_size = range[1] - range[0]\n",
        "    mid_range_list = [] #list to keep track of questioned numbers\n",
        "    def __init__(self, sign, gameType):\n",
        "        if sign not in interval.accept_sign:\n",
        "            raise SignError\n",
        "    def set_range(self, gameType): #method of the class that assigns the range\n",
        "        if gameType == \"1\":\n",
        "            interval.range = [0, 101]\n",
        "        elif gameType == \"2\":\n",
        "            interval.range = [65, 91]\n",
        "        elif gameType == \"3\":\n",
        "            interval.range = [97, 123]\n",
        "        interval.mid_range = math.floor ((interval.range[0] + interval.range[1]) / 2)\n",
        "        interval.range_size = interval.range[1] - interval.range[0]\n",
        "        exit()\n",
        "    def get_range(self, sign): #method of the class that re-assigns the range and the midpoint based on user's response >,<,=\n",
        "        if sign == \"=\" :\n",
        "            interval.counter += 1\n",
        "            return interval.counter\n",
        "            exit()\n",
        "        elif sign == \">\":\n",
        "            interval.range[0] = interval.mid_range #previous midpoint is now assigned to the beginning of the range\n",
        "            interval.mid_range = math.floor((interval.range[0] + interval.range[1]) / 2) #new midpoint is calculated\n",
        "            interval.range_size = interval.range[1] - interval.range[0] #difference between end and beginning of the range\n",
        "            interval.mid_range_list.append(interval.mid_range)\n",
        "            interval.counter += 1\n",
        "            return interval.counter\n",
        "        elif sign == \"<\":\n",
        "            interval.range[1] = interval.mid_range #previous midpoint is now assigned to be the end of the range\n",
        "            interval.mid_range = math.floor((interval.range[0] + interval.range[1]) / 2) #new midpoint is calculated\n",
        "            interval.range_size = interval.range[1] - interval.range[0]\n",
        "            interval.mid_range_list.append(interval.mid_range)\n",
        "            interval.counter += 1\n",
        "            return interval.counter\n",
        "        return interval.mid_range\n",
        "\n",
        "while True: #continuous loop prompting for the user input of <,> or =\n",
        "  try:\n",
        "    if game == \"1\":\n",
        "      print(\"Is your number greater(>), equal(=), or less(<) than \", interval.mid_range)\n",
        "    elif game == \"2\" or game == \"3\":\n",
        "      print(\"Is your character before(<), equal(=), or after(>) \", chr(interval.mid_range))\n",
        "    sign = input(\"please answer(<,=,>)\", )\n",
        "    Current_range = interval(sign, game)\n",
        "    Current_range = Current_range.get_range(sign)\n",
        "\n",
        "    if sign == \"=\": #loop breaks when user enters =.\n",
        "      if game == \"1\":\n",
        "        print(\"I guessed your number. It is\", interval.mid_range, \". It took me \", interval.counter, \"steps\")\n",
        "      elif game == \"2\" or game == \"3\":\n",
        "        print(\"I guessed your character. It is\", chr(interval.mid_range), \". It took me \", interval.counter, \"steps\")\n",
        "      break\n",
        "    elif interval.range_size <= 2 and interval.mid_range_list.count(interval.mid_range)<2: #loop breaks when difference between end and the beginning of the interval <=2, the numer can be caculated\n",
        "      if game == \"1\":\n",
        "        print(\"I guessed your number. It is\", interval.mid_range, \". It took me \", interval.counter, \"steps\")\n",
        "      elif game == \"2\" or game == \"3\":\n",
        "        print(\"I guessed your character. It is\", chr(interval.mid_range), \". It took me \", interval.counter, \"steps\")\n",
        "      break\n",
        "    elif interval.mid_range_list.count(interval.mid_range)==2: #loop breaks when user did not give correct answer\n",
        "      print(\"I already asked about\",interval.mid_range,\". You need to be consistent and give correct answers! This round does not count.\")\n",
        "      interval.mid_range_list.clear()\n",
        "      break\n",
        "      continue\n",
        "  except SignError: #error if user didn't enter the correct sign >,<,=\n",
        "    print(\"Sorry, you have entered a wrong sign.\")\n",
        "    continue\n"
      ]
    }
  ]
}