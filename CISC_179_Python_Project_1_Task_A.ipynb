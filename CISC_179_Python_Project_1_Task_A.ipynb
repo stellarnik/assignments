{
  "nbformat": 4,
  "nbformat_minor": 0,
  "metadata": {
    "colab": {
      "provenance": [],
      "authorship_tag": "ABX9TyP4of9BfElDCqOVSuSfbUJT",
      "include_colab_link": true
    },
    "kernelspec": {
      "name": "python3",
      "display_name": "Python 3"
    },
    "language_info": {
      "name": "python"
    }
  },
  "cells": [
    {
      "cell_type": "markdown",
      "metadata": {
        "id": "view-in-github",
        "colab_type": "text"
      },
      "source": [
        "<a href=\"https://colab.research.google.com/github/stellarnik/assignments/blob/main/CISC_179_Python_Project_1_Task_A.ipynb\" target=\"_parent\"><img src=\"https://colab.research.google.com/assets/colab-badge.svg\" alt=\"Open In Colab\"/></a>"
      ]
    },
    {
      "cell_type": "code",
      "execution_count": 73,
      "metadata": {
        "colab": {
          "base_uri": "https://localhost:8080/"
        },
        "id": "7SJXgoyJlQJ9",
        "outputId": "ab456d31-3716-4392-a4d3-f42030ef9026"
      },
      "outputs": [
        {
          "output_type": "stream",
          "name": "stdout",
          "text": [
            "Think of any number between 1 and 100\n",
            "Is your number greater(>), equal(=), or less(<) than  50\n",
            "please answer(<,=,>)>\n",
            "Is your number greater(>), equal(=), or less(<) than  75\n",
            "please answer(<,=,>)=\n",
            "I guessed your number. It is 75 It took me  2 steps\n"
          ]
        }
      ],
      "source": [
        "\n",
        "# A Python program that plays the numbers guessing game\n",
        "import math\n",
        "print(\"Think of any number between 1 and 100\")\n",
        "class SignError(Exception):\n",
        "    pass\n",
        "class interval:\n",
        "    accept_sign = [\">\", \"<\", \"=\"]\n",
        "    range = [1, 100]\n",
        "    mid_range = math.floor ((range[0] + range[1]) / 2)\n",
        "    range_size = range[1] - range[0]\n",
        "    counter = 0\n",
        "    def __init__(self, sign):\n",
        "        if sign not in interval.accept_sign:\n",
        "            raise SignError\n",
        "\n",
        "    def get_range(self, sign):\n",
        "        #sign = input(\"Is your number more than mid range \", )\n",
        "        if sign == \"=\" :\n",
        "            #print(\"I guessed your number. It is\", interval.mid_range)\n",
        "            #return interval.mid_range\n",
        "            interval.counter += 1\n",
        "            return interval.counter\n",
        "            exit()\n",
        "        elif sign == \">\":\n",
        "            interval.range[0] = interval.mid_range\n",
        "            interval.mid_range = math.floor((interval.range[0] + interval.range[1]) / 2)\n",
        "            interval.range_size = interval.range[1] - interval.range[0]\n",
        "            #print(interval.mid_range)\n",
        "            interval.counter += 1\n",
        "            return interval.counter\n",
        "        elif sign == \"<\":\n",
        "            interval.range[1] = interval.mid_range\n",
        "            interval.mid_range = math.floor((interval.range[0] + interval.range[1]) / 2)\n",
        "            interval.range_size = interval.range[1] - interval.range[0]\n",
        "            #print(interval.mid_range)\n",
        "            interval.counter += 1\n",
        "            return interval.counter\n",
        "        else:\n",
        "            print(\"I guessed your number\")\n",
        "        return interval.mid_range\n",
        "\n",
        "while True:\n",
        "  try:\n",
        "    print(\"Is your number greater(>), equal(=), or less(<) than \", interval.mid_range)\n",
        "    sign = input(\"please answer(<,=,>)\", )\n",
        "    Current_range = interval(sign)\n",
        "    #print(\"X\")\n",
        "    Current_range = Current_range.get_range(sign)\n",
        "    #print(Current_range)\n",
        "    #sign = interval.user_input(self)\n",
        "    if sign == \"=\":\n",
        "      print(\"I guessed your number. It is\", interval.mid_range, \"It took me \", interval.counter, \"steps\")\n",
        "      break\n",
        "    elif interval.range_size <= 2:\n",
        "      print(\"I guessed your number. It is\", interval.mid_range, \"It took me \", interval.counter, \"steps\")\n",
        "      break\n",
        "    else:\n",
        "      continue\n",
        "\n",
        "  except SignError:\n",
        "    print(\"Sorry, you have entered a wrong sign.\")\n",
        "    continue\n"
      ]
    },
    {
      "cell_type": "code",
      "source": [],
      "metadata": {
        "id": "baaK6CFdvLIM"
      },
      "execution_count": null,
      "outputs": []
    }
  ]
}