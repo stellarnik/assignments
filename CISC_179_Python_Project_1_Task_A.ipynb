{
  "nbformat": 4,
  "nbformat_minor": 0,
  "metadata": {
    "colab": {
      "provenance": [],
      "authorship_tag": "ABX9TyPZZs3SHolvEoHNdSMVxn8T",
      "include_colab_link": true
    },
    "kernelspec": {
      "name": "python3",
      "display_name": "Python 3"
    },
    "language_info": {
      "name": "python"
    }
  },
  "cells": [
    {
      "cell_type": "markdown",
      "metadata": {
        "id": "view-in-github",
        "colab_type": "text"
      },
      "source": [
        "<a href=\"https://colab.research.google.com/github/stellarnik/assignments/blob/main/CISC_179_Python_Project_1_Task_A.ipynb\" target=\"_parent\"><img src=\"https://colab.research.google.com/assets/colab-badge.svg\" alt=\"Open In Colab\"/></a>"
      ]
    },
    {
      "cell_type": "code",
      "execution_count": null,
      "metadata": {
        "colab": {
          "base_uri": "https://localhost:8080/"
        },
        "id": "7SJXgoyJlQJ9",
        "outputId": "d616edd5-2f33-4012-8b24-163ae18e3aa7"
      },
      "outputs": [
        {
          "output_type": "stream",
          "name": "stdout",
          "text": [
            "Think of any number between 1 and 100\n",
            "Is your number greater(>), equal(=), or less(<) than  51\n",
            "please answer(<,=,>)>\n",
            "Is your number greater(>), equal(=), or less(<) than  76\n",
            "please answer(<,=,>)<\n",
            "Is your number greater(>), equal(=), or less(<) than  63\n",
            "please answer(<,=,>)n\n",
            "Sorry, you have entered a wrong sign.\n",
            "Is your number greater(>), equal(=), or less(<) than  63\n",
            "please answer(<,=,>)>\n",
            "Is your number greater(>), equal(=), or less(<) than  69\n",
            "please answer(<,=,>)<\n",
            "Is your number greater(>), equal(=), or less(<) than  66\n",
            "please answer(<,=,>)<\n",
            "Is your number greater(>), equal(=), or less(<) than  64\n",
            "please answer(<,=,>)<\n",
            "I already asked about 63 . You need to be consistent and give correct answers! This round does not count.\n"
          ]
        }
      ],
      "source": [
        "\n",
        "# A Python program that plays the numbers guessing game\n",
        "import math\n",
        "print(\"Think of any number between 1 and 100\")\n",
        "class SignError(Exception):\n",
        "    pass\n",
        "class interval:\n",
        "    accept_sign = [\">\", \"<\", \"=\"] # list of acceptable characters/user responses\n",
        "    range = [1, 101] # Using a list to define lower and upper value of the range.  Initial range is between 1 and 100.\n",
        "    mid_range = math.floor ((range[0] + range[1]) / 2) #expression caculates the middle of the range by rounding down.\n",
        "    range_size = [range[1] - range[0]] # difference between upper and lower value of the range\n",
        "    counter = 0 # to keep track of number of guesses\n",
        "    mid_range_list = [mid_range] #list to keep track of suggested numbers\n",
        "    def __init__(self, sign):\n",
        "        if sign not in interval.accept_sign: # validates user response and raises error\n",
        "            raise SignError\n",
        "    def get_range(self, sign): #method of the class that re-assigns the range and the midpoint based on user response >,<,=\n",
        "        if sign == \"=\" :\n",
        "            interval.counter += 1\n",
        "            return interval.counter\n",
        "            exit()\n",
        "        elif sign == \">\":\n",
        "            interval.range[0] = interval.mid_range #previous midpoint is now assigned to the lower value of the range\n",
        "            interval.mid_range = math.floor((interval.range[0] + interval.range[1]) / 2) #new midpoint is calculated\n",
        "            interval.range_size = interval.range[1] - interval.range[0] #difference between end and beginning of the range is calculated\n",
        "            interval.mid_range_list.append(interval.mid_range)\n",
        "            interval.counter += 1 # counter is increased\n",
        "            return interval.counter\n",
        "        elif sign == \"<\":\n",
        "            interval.range[1] = interval.mid_range #previous midpoint is now assigned to be the upper value of the range\n",
        "            interval.mid_range = math.floor((interval.range[0] + interval.range[1]) / 2) #new midpoint is calculated\n",
        "            interval.range_size = interval.range[1] - interval.range[0]\n",
        "            interval.mid_range_list.append(interval.mid_range)\n",
        "            interval.counter += 1\n",
        "            return interval.counter\n",
        "        return interval.mid_range\n",
        "\n",
        "while True: #continues loop prompting for the user input\n",
        "  try:\n",
        "    print(\"Is your number greater(>), equal(=), or less(<) than \", interval.mid_range)\n",
        "    sign = input(\"please answer(<,=,>)\", )\n",
        "    Current_range = interval(sign)\n",
        "    Current_range = Current_range.get_range(sign)\n",
        "\n",
        "    if sign == \"=\": #loop breaks when user enters =.\n",
        "      print(\"I guessed your number. It is\", interval.mid_range, \"It took me \", interval.counter, \"steps\")\n",
        "      break\n",
        "    elif interval.range_size <= 2 and interval.mid_range_list.count(interval.mid_range)<2: #loop breaks when difference between end and the beginning of the interval <=2, the numer can be caculated\n",
        "      print(\"I guessed your number. It is\", interval.mid_range,\". It took me \",interval.counter, \"steps.\")\n",
        "      break\n",
        "    elif interval.mid_range_list.count(interval.mid_range)==2: #loop breaks when user did not give correct answer\n",
        "      print(\"I already asked about\",interval.mid_range,\". You need to be consistent and give correct answers! This round does not count.\")\n",
        "      interval.mid_range_list.clear()\n",
        "      break\n",
        "      continue\n",
        "  except SignError: #error if user didn't enter the correct sign >,<,=\n",
        "    print(\"Sorry, you have entered a wrong sign.\")\n",
        "    continue\n"
      ]
    },
    {
      "cell_type": "code",
      "source": [],
      "metadata": {
        "id": "baaK6CFdvLIM"
      },
      "execution_count": null,
      "outputs": []
    }
  ]
}