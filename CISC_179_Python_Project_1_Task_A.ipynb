{
  "nbformat": 4,
  "nbformat_minor": 0,
  "metadata": {
    "colab": {
      "provenance": [],
      "authorship_tag": "ABX9TyMSYAFuZ3sd/cup+SX8zuSy",
      "include_colab_link": true
    },
    "kernelspec": {
      "name": "python3",
      "display_name": "Python 3"
    },
    "language_info": {
      "name": "python"
    }
  },
  "cells": [
    {
      "cell_type": "markdown",
      "metadata": {
        "id": "view-in-github",
        "colab_type": "text"
      },
      "source": [
        "<a href=\"https://colab.research.google.com/github/stellarnik/assignments/blob/main/CISC_179_Python_Project_1_Task_A.ipynb\" target=\"_parent\"><img src=\"https://colab.research.google.com/assets/colab-badge.svg\" alt=\"Open In Colab\"/></a>"
      ]
    },
    {
      "cell_type": "code",
      "execution_count": 103,
      "metadata": {
        "colab": {
          "base_uri": "https://localhost:8080/"
        },
        "id": "7SJXgoyJlQJ9",
        "outputId": "e77b0263-899f-4777-b437-e4599959a0a4"
      },
      "outputs": [
        {
          "output_type": "stream",
          "name": "stdout",
          "text": [
            "Think of any number between 1 and 100\n",
            "Is your number greater(>), equal(=), or less(<) than  51\n",
            "please answer(<,=,>)51\n",
            "Sorry, you have entered a wrong sign.\n",
            "Is your number greater(>), equal(=), or less(<) than  51\n",
            "please answer(<,=,>)>\n",
            "[51]\n",
            "Is your number greater(>), equal(=), or less(<) than  76\n",
            "please answer(<,=,>)<\n",
            "[51, 76]\n",
            "Is your number greater(>), equal(=), or less(<) than  63\n",
            "please answer(<,=,>)<\n",
            "[51, 76, 63]\n",
            "Is your number greater(>), equal(=), or less(<) than  57\n",
            "please answer(<,=,>)<\n",
            "[51, 76, 63, 57]\n",
            "Is your number greater(>), equal(=), or less(<) than  54\n",
            "please answer(<,=,>)<\n",
            "[51, 76, 63, 57, 54]\n",
            "Is your number greater(>), equal(=), or less(<) than  52\n",
            "please answer(<,=,>)<\n",
            "[51, 76, 63, 57, 54, 52]\n",
            "I already asked about 51 . You need to be consistent and give correct answers! This round does not count.\n"
          ]
        }
      ],
      "source": [
        "\n",
        "# A Python program that plays the numbers guessing game\n",
        "import math\n",
        "print(\"Think of any number between 1 and 100\")\n",
        "class SignError(Exception):\n",
        "    pass\n",
        "class interval:\n",
        "    accept_sign = [\">\", \"<\", \"=\"]\n",
        "    range = [1, 101]\n",
        "    mid_range = math.floor ((range[0] + range[1]) / 2)\n",
        "    range_size = [range[1] - range[0]]\n",
        "    counter = 0\n",
        "    mid_range_list = [mid_range]\n",
        "    def __init__(self, sign):\n",
        "        if sign not in interval.accept_sign:\n",
        "            raise SignError\n",
        "\n",
        "    def get_range(self, sign):\n",
        "\n",
        "        if sign == \"=\" :\n",
        "\n",
        "            interval.counter += 1\n",
        "            return interval.counter\n",
        "            exit()\n",
        "        elif sign == \">\":\n",
        "            interval.range[0] = interval.mid_range\n",
        "            interval.mid_range = math.floor((interval.range[0] + interval.range[1]) / 2)\n",
        "            interval.range_size = interval.range[1] - interval.range[0]\n",
        "            interval.mid_range_list.append(interval.mid_range)\n",
        "            interval.counter += 1\n",
        "            return interval.counter\n",
        "        elif sign == \"<\":\n",
        "            interval.range[1] = interval.mid_range\n",
        "            interval.mid_range = math.floor((interval.range[0] + interval.range[1]) / 2)\n",
        "            interval.range_size = interval.range[1] - interval.range[0]\n",
        "            interval.mid_range_list.append(interval.mid_range)\n",
        "            interval.counter += 1\n",
        "            return interval.counter\n",
        "        else:\n",
        "            print(\"I guessed your number\")\n",
        "        return interval.mid_range\n",
        "\n",
        "while True:\n",
        "  try:\n",
        "    print(\"Is your number greater(>), equal(=), or less(<) than \", interval.mid_range)\n",
        "    sign = input(\"please answer(<,=,>)\", )\n",
        "    Current_range = interval(sign)\n",
        "    print(interval.mid_range_list)\n",
        "    Current_range = Current_range.get_range(sign)\n",
        "\n",
        "    if sign == \"=\":\n",
        "      print(\"I guessed your number. It is\", interval.mid_range, \"It took me \", interval.counter, \"steps\")\n",
        "      break\n",
        "    elif interval.range_size <= 2 and interval.mid_range_list.count(interval.mid_range)<2:\n",
        "      print(\"I guessed your number. It is\", interval.mid_range,\". It took me \",interval.counter, \"steps.\")\n",
        "      break\n",
        "    elif interval.mid_range_list.count(interval.mid_range)==2:\n",
        "      print(\"I already asked about\",interval.mid_range,\". You need to be consistent and give correct answers! This round does not count.\")\n",
        "      interval.mid_range_list.clear()\n",
        "      break\n",
        "      continue\n",
        "\n",
        "  except SignError:\n",
        "    print(\"Sorry, you have entered a wrong sign.\")\n",
        "    continue\n"
      ]
    },
    {
      "cell_type": "code",
      "source": [],
      "metadata": {
        "id": "baaK6CFdvLIM"
      },
      "execution_count": 77,
      "outputs": []
    }
  ]
}