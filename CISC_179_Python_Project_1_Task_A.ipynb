{
  "nbformat": 4,
  "nbformat_minor": 0,
  "metadata": {
    "colab": {
      "provenance": [],
      "authorship_tag": "ABX9TyOF2p3bc3ZHu10zumuvdRxb",
      "include_colab_link": true
    },
    "kernelspec": {
      "name": "python3",
      "display_name": "Python 3"
    },
    "language_info": {
      "name": "python"
    }
  },
  "cells": [
    {
      "cell_type": "markdown",
      "metadata": {
        "id": "view-in-github",
        "colab_type": "text"
      },
      "source": [
        "<a href=\"https://colab.research.google.com/github/stellarnik/assignments/blob/main/CISC_179_Python_Project_1_Task_A.ipynb\" target=\"_parent\"><img src=\"https://colab.research.google.com/assets/colab-badge.svg\" alt=\"Open In Colab\"/></a>"
      ]
    },
    {
      "cell_type": "code",
      "execution_count": 42,
      "metadata": {
        "colab": {
          "base_uri": "https://localhost:8080/"
        },
        "id": "7SJXgoyJlQJ9",
        "outputId": "901bc820-2959-4b50-bbdd-c31e42228881"
      },
      "outputs": [
        {
          "output_type": "stream",
          "name": "stdout",
          "text": [
            "Think of any number between 1 and 100\n",
            "Is your number greater(>), equal(=), or less(<) than  50\n",
            "please answer(<,=,>)>\n",
            "75\n"
          ]
        }
      ],
      "source": [
        "\n",
        "# A Python program that plays the numbers guessing game\n",
        "import math\n",
        "print(\"Think of any number between 1 and 100\")\n",
        "class SignError(Exception):\n",
        "    pass\n",
        "class interval:\n",
        "    accept_sign = [\">\", \"<\", \"=\"]\n",
        "    range = [1, 100]\n",
        "    mid_range = math.floor ((range[0] + range[1]) / 2)\n",
        "    #print(mid_range)\n",
        "    def __init__(self, sign):\n",
        "        if sign not in interval.accept_sign:\n",
        "            raise SignError\n",
        "        #self.sign = sign\n",
        "        #print (self.sign)\n",
        "    def user_input (self):\n",
        "        print(\"Is your number greater(>), equal(=), or less(<) than \", interval.mid_range)\n",
        "        sign = input(\"please answer(<,=,>)\", )\n",
        "        return sign\n",
        "\n",
        "    def get_range(self, sign):\n",
        "        #sign = input(\"Is your number more than mid range \", )\n",
        "        if sign == \"=\" :\n",
        "            print(\"I guessed your number. It is\", interval.mid_range)\n",
        "            return interval.mid_range\n",
        "            exit()\n",
        "        elif sign == \">\":\n",
        "            interval.range[0] = interval.mid_range\n",
        "            interval.mid_range = math.floor((interval.range[0] + interval.range[1]) / 2)\n",
        "            print(interval.mid_range)\n",
        "        elif sign == \"<\":\n",
        "            interval.range[1] = interval.mid_range\n",
        "            interval.mid_range = math.floor((interval.range[0] + interval.range[1]) / 2)\n",
        "            print(interval.mid_range)\n",
        "        else:\n",
        "            print(\"I guessed your number\")\n",
        "        return interval.mid_range\n",
        "\n",
        "\n",
        "try:\n",
        "    print(\"Is your number greater(>), equal(=), or less(<) than \", interval.mid_range)\n",
        "    sign = input(\"please answer(<,=,>)\", )\n",
        "    Current_range = interval(sign)\n",
        "    #print(\"X\")\n",
        "    Current_range = Current_range.get_range(sign)\n",
        "    #print(Current_range)\n",
        "    #sign = interval.user_input(self)\n",
        "except SignError:\n",
        "    print(\"Sorry, you have entered a wrong sign.\")\n",
        "    #interval.user_input(self)\n"
      ]
    },
    {
      "cell_type": "code",
      "source": [],
      "metadata": {
        "id": "baaK6CFdvLIM"
      },
      "execution_count": null,
      "outputs": []
    }
  ]
}