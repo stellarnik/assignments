{
  "nbformat": 4,
  "nbformat_minor": 0,
  "metadata": {
    "colab": {
      "provenance": [],
      "include_colab_link": true
    },
    "kernelspec": {
      "name": "python3",
      "display_name": "Python 3"
    },
    "language_info": {
      "name": "python"
    }
  },
  "cells": [
    {
      "cell_type": "markdown",
      "metadata": {
        "id": "view-in-github",
        "colab_type": "text"
      },
      "source": [
        "<a href=\"https://colab.research.google.com/github/stellarnik/assignments/blob/main/Functions.ipynb\" target=\"_parent\"><img src=\"https://colab.research.google.com/assets/colab-badge.svg\" alt=\"Open In Colab\"/></a>"
      ]
    },
    {
      "cell_type": "markdown",
      "source": [
        "# Functions in Python\n",
        "Functions are designed to perform the same task repeatedly. For the user, they operate like a black box, with no visibility into how the function is implemented. Users provide compatible arguments to the function, or in some cases, no arguments at all, and the function executes according to the programmer's implementation.\n",
        "\n",
        "## Objective\n",
        "- Understand how arguments are used in functions\n",
        "- Function variables visibility and global variables\n",
        "- Troubleshoot functions\n",
        "\n",
        "## Prerequisite\n",
        "\n",
        "- Lists & tuples\n",
        "- Decision and loops\n",
        "\n",
        "\n",
        "## What do you need to complete this exercise?\n",
        "\n",
        "You can perform this exercise in any Python IDE, including JupyterLab or Google Colab.\n"
      ],
      "metadata": {
        "id": "2ITy4ycVFXBq"
      }
    },
    {
      "cell_type": "markdown",
      "source": [
        "# Create a unit conversion program using functions\n",
        "1a. The user selects kilometers per liter (kpl), and the response will be provided in miles per gallon (mpg). The units must be interchangeable, so the program will ask the user whether to convert from kpl to mpg or vice versa.\n",
        "\n",
        "The program will prompt the user for input and deliver output with the appropriate units.\n",
        "\n",
        "Additionally, the program will include input validation. For example, it will not accept letter inputs and will provide an error message to the user when invalid input is detected.\n",
        "\n",
        "The function will also allow multiple arguments, enabling the user to convert multiple values at once.\n",
        "\n",
        "Research and find out the conversion factor between the units."
      ],
      "metadata": {
        "id": "uQxH0KO0tsDc"
      }
    },
    {
      "cell_type": "code",
      "source": [
        "# Write your code here.\n",
        "def convert(a,b):\n",
        "  if a==\"kpl\" and isinstance(b, (int,float)):\n",
        "    c=b*2.3521 # convert kpl to mpg\n",
        "    return c\n",
        "  elif a==\"mpg\" and isinstance(b, (int, float)):\n",
        "    c=b/2.3521 # convert mpg to kpl\n",
        "    return c\n",
        "  else:\n",
        "    return(print(\"Invalid input, re-enter your data\"))\n",
        "a=str(input(\"Enter kpl to convert kilometers per liter to miles per gallon. Enter mpg to convert miles per gallon to kilometers per liter: \"))\n",
        "tempstring=str(input(\"Enter value to convert: \"))\n",
        "b=float(tempstring)\n",
        "print(convert(a,b))"
      ],
      "metadata": {
        "id": "rRTflD1C9mjt",
        "outputId": "a6c8e92d-9668-4734-ae17-aaebe00c9602",
        "colab": {
          "base_uri": "https://localhost:8080/"
        }
      },
      "execution_count": null,
      "outputs": [
        {
          "output_type": "stream",
          "name": "stdout",
          "text": [
            "Enter kpl to convert kilometers per liter to miles per gallon. Enter mpg to convert miles per gallon to kilometers per liter: kpl\n",
            "Enter value to convert: 10\n",
            "23.521\n"
          ]
        }
      ]
    },
    {
      "cell_type": "markdown",
      "source": [
        "1b. How would you write a function that could take any number of unnamed arguments and print their values out in reverse order?\n"
      ],
      "metadata": {
        "id": "0jkTuRdlA6sk"
      }
    },
    {
      "cell_type": "code",
      "source": [
        "def my_function(l:list):\n",
        "  return l[::-1]\n",
        "l=[1,2,3,4,5]\n",
        "print(l)\n",
        "print(my_function(l))"
      ],
      "metadata": {
        "id": "zw4LyJmNrBm1",
        "outputId": "8ef99af6-5e21-44bf-a1c4-c937dc0da05b",
        "colab": {
          "base_uri": "https://localhost:8080/"
        }
      },
      "execution_count": null,
      "outputs": [
        {
          "output_type": "stream",
          "name": "stdout",
          "text": [
            "[1, 2, 3, 4, 5]\n",
            "[5, 4, 3, 2, 1]\n"
          ]
        }
      ]
    },
    {
      "cell_type": "markdown",
      "source": [
        "1c. What would be the result of changing a list or dictionary that was passed into a function as a parameter value? Which operations would be likely to create changes that would be visible outside the function? What steps might you take to minimize that risk?\n",
        "\n",
        "Explain the above statements with the help of code."
      ],
      "metadata": {
        "id": "sL7k6J70zdzH"
      }
    },
    {
      "cell_type": "code",
      "source": [
        "# when we pass list to a function as a parameter, it affects the list outside of the function\n",
        "def my_func(L):\n",
        "  L.reverse()\n",
        "my_list=[1,2,3,4,5]\n",
        "my_func(my_list)\n",
        "print(my_list)\n",
        "\n",
        "#use a copy of original list to pass to the function as a parameter. This way the original list is unaffected\n",
        "import copy\n",
        "def my_func1(N):\n",
        "  N.reverse()\n",
        "  print(\"List inside the function: \", N)\n",
        "my_list1=[1,2,3,4,5]\n",
        "my_func1(copy.deepcopy(my_list1))\n",
        "print(my_list1)\n"
      ],
      "metadata": {
        "id": "8ZIVOfAMQt2Z",
        "outputId": "1728a886-f6c2-4569-96f9-99a01f565f6d",
        "colab": {
          "base_uri": "https://localhost:8080/"
        }
      },
      "execution_count": 9,
      "outputs": [
        {
          "output_type": "stream",
          "name": "stdout",
          "text": [
            "[5, 4, 3, 2, 1]\n",
            "List inside the function:  [5, 4, 3, 2, 1]\n",
            "[1, 2, 3, 4, 5]\n"
          ]
        }
      ]
    },
    {
      "cell_type": "markdown",
      "source": [
        "1d. Assuming that ```x = 5```, what will be the value of ```x``` after ```funct_1()``` below executes? After ```funct_2()``` executes?\n"
      ],
      "metadata": {
        "id": "1wWF-wZx2h9s"
      }
    },
    {
      "cell_type": "markdown",
      "source": [
        "After funct_1() executes, x=5. After funct_2() executes, x=2"
      ],
      "metadata": {
        "id": "YeugDxV9rdNC"
      }
    },
    {
      "cell_type": "code",
      "source": [
        "x = 5\n",
        "def funct_1():\n",
        "  x=3\n",
        "  return()\n",
        "funct_1()\n",
        "print(x)\n",
        "\n",
        "def funct_2():\n",
        "  global x\n",
        "  x=2\n",
        "  return()\n",
        "funct_2()\n",
        "print(x)"
      ],
      "metadata": {
        "id": "nvd-xB2v3AYh",
        "outputId": "20e0bb5c-4b5e-44de-a750-e8a1e9b95e32",
        "colab": {
          "base_uri": "https://localhost:8080/"
        }
      },
      "execution_count": null,
      "outputs": [
        {
          "output_type": "stream",
          "name": "stdout",
          "text": [
            "5\n",
            "2\n"
          ]
        }
      ]
    },
    {
      "cell_type": "markdown",
      "source": [
        "# 2. Troubleshooting"
      ],
      "metadata": {
        "id": "tJlIQIYjBPLX"
      }
    },
    {
      "cell_type": "markdown",
      "source": [
        "Correct the following code. There might be more than one correct answers. Explain your reasoning."
      ],
      "metadata": {
        "id": "V8HkUVFy6DlD"
      }
    },
    {
      "cell_type": "code",
      "source": [
        "def my_func(a,b,*c):\n",
        "  print(a)\n",
        "\n",
        "my_func(1,2,3,4,5,6)\n"
      ],
      "metadata": {
        "id": "bJzMzbxIsAU9",
        "outputId": "1178935b-baa9-4ad9-c842-22a4edb94853",
        "colab": {
          "base_uri": "https://localhost:8080/"
        }
      },
      "execution_count": 2,
      "outputs": [
        {
          "output_type": "stream",
          "name": "stdout",
          "text": [
            "1\n"
          ]
        }
      ]
    },
    {
      "cell_type": "markdown",
      "source": [
        "When this **c is past to a function, it expects to collect additional arguments into a dictionary. *c collects positional arguments."
      ],
      "metadata": {
        "id": "kOPaAsh8ybr2"
      }
    },
    {
      "cell_type": "markdown",
      "source": [
        "Using the following code, x should print 100 but it prints 10, why?\n",
        "\n",
        "Global x is defined outside of the function. x=100 is inside the function. outside the function, x=10."
      ],
      "metadata": {
        "id": "sYDRYXa9vbX4"
      }
    },
    {
      "cell_type": "code",
      "source": [
        "def my_func_global():\n",
        "  x = 100\n",
        "\n",
        "global x\n",
        "x = 10\n",
        "my_func_global()\n",
        "print(x)"
      ],
      "metadata": {
        "id": "w93b1OeVNYuf",
        "colab": {
          "base_uri": "https://localhost:8080/"
        },
        "outputId": "f28ba363-d692-46fa-d097-191c63665721"
      },
      "execution_count": null,
      "outputs": [
        {
          "output_type": "stream",
          "name": "stdout",
          "text": [
            "10\n"
          ]
        }
      ]
    },
    {
      "cell_type": "markdown",
      "source": [
        "## Challenges\n",
        "\n",
        "Please describe the challenges you faced during the exercise."
      ],
      "metadata": {
        "id": "xQzjxKdvvbyo"
      }
    },
    {
      "cell_type": "markdown",
      "source": [
        "Write your challenges here"
      ],
      "metadata": {
        "id": "qfJNpTB5EbY4"
      }
    }
  ]
}