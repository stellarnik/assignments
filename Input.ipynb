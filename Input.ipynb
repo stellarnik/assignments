{
  "nbformat": 4,
  "nbformat_minor": 0,
  "metadata": {
    "colab": {
      "provenance": [],
      "toc_visible": true,
      "include_colab_link": true
    },
    "kernelspec": {
      "name": "python3",
      "display_name": "Python 3"
    },
    "language_info": {
      "name": "python"
    }
  },
  "cells": [
    {
      "cell_type": "markdown",
      "metadata": {
        "id": "view-in-github",
        "colab_type": "text"
      },
      "source": [
        "<a href=\"https://colab.research.google.com/github/stellarnik/assignments/blob/main/Input.ipynb\" target=\"_parent\"><img src=\"https://colab.research.google.com/assets/colab-badge.svg\" alt=\"Open In Colab\"/></a>"
      ]
    },
    {
      "cell_type": "markdown",
      "source": [
        "# User input in Python\n",
        "\n",
        "## Objective\n",
        "1. Understand how ```input()``` function is applied.\n",
        "\n",
        "## Prerequisite\n",
        "\n",
        "- Python literals lecture & lab\n",
        "- Programming variables lecture\n",
        "\n",
        "## What do you need to complete this exercise?\n",
        "\n",
        "You can perform this exercise in any Python IDE, including JupyterLab or Google Colab.\n"
      ],
      "metadata": {
        "id": "2ITy4ycVFXBq"
      }
    },
    {
      "cell_type": "markdown",
      "source": [
        "### User input\n",
        "\n",
        "a. Write a program that prompts the user to enter the weight of a person in kilograms and outputs the equivalent weight in pounds. (Note that 1 kilogram = 2.2 pounds)."
      ],
      "metadata": {
        "id": "uQxH0KO0tsDc"
      }
    },
    {
      "cell_type": "code",
      "source": [
        "# Write your code here\n",
        "# Hint: Use int() or float() to convert the user input into an integer or float\n",
        "x = \"10\"\n",
        "print(type(x))\n",
        "x = int(x)\n",
        "print(type(x))\n",
        "\n",
        "#This program will convert weight from kilogram to pounds.\n",
        "weight_kg=float(input(\"Enter your weight in kilograms: \"))\n",
        "weight_lbs=weight_kg*2.2\n",
        "print(\"Your weight in pounds\")\n",
        "print(weight_lbs)"
      ],
      "metadata": {
        "colab": {
          "base_uri": "https://localhost:8080/"
        },
        "id": "N3wgQQ672rWR",
        "outputId": "77f0a1ff-7fc8-42a6-fba7-bee6efbdde64"
      },
      "execution_count": 3,
      "outputs": [
        {
          "output_type": "stream",
          "name": "stdout",
          "text": [
            "<class 'str'>\n",
            "<class 'int'>\n",
            "Enter your weight in kilograms: 71.4\n",
            "Your weight in pounds\n",
            "157.08\n"
          ]
        }
      ]
    },
    {
      "cell_type": "markdown",
      "source": [
        "b. Interest on a credit card's unpaid balance is calculated using the average daily balance. Suppose that $netBalance$ is the balance shown in the bill, $payment$ is the payment made, $d1$ is the number of days in the billing cycle, and $d2$ is the number of days payment is made before biling cycle. Then, the average daily balance is: $$averageDailybalance = (netBalance \\times d1 - payment \\times d2)/d1$$.\n",
        "\n",
        "If the interest rate per month is, say, 0.0152, then the interest on the unpaid balance is: $interest = averageDailyBalance \\times 0.0152$\n",
        "\n",
        "Write a program that accepts as input $netBalance$, $payment$, $d1$, $d2$, and $interest rate per month$. The program outputs the interest."
      ],
      "metadata": {
        "id": "2ou6B-5b2ws3"
      }
    },
    {
      "cell_type": "code",
      "source": [
        "# Write your code here\n",
        "#This program caculates interest on unpaid balance\n",
        "netBalance=float(input(\"Enter the balance shown in the bill: \"))\n",
        "payment=float(input(\"Enter the payment made: \"))\n",
        "d1=int(input(\"Enter the number of days in the billing cycle: \"))\n",
        "d2=int(input(\"Enter the number of days payment is made before billing cycle: \"))\n",
        "averageDailybalance=(netBalance*d1-payment*d2)/d1\n",
        "interest=averageDailybalance*0.0152\n",
        "print(\"The interest: \")\n",
        "print(interest)"
      ],
      "metadata": {
        "id": "pqP70bD02x9h",
        "outputId": "6763c548-d883-4971-a7be-7a28d870a263",
        "colab": {
          "base_uri": "https://localhost:8080/"
        }
      },
      "execution_count": 5,
      "outputs": [
        {
          "output_type": "stream",
          "name": "stdout",
          "text": [
            "Enter the balance shown in the bill: 1000.50\n",
            "Enter the payment made: 110.20\n",
            "Enter the number of days in the billing cycle: 30\n",
            "Enter the number of days payment is made before billing cycle: 5\n",
            "The interest: \n",
            "14.928426666666667\n"
          ]
        }
      ]
    },
    {
      "cell_type": "markdown",
      "source": [
        "c. Two cars A and B leave an intersection at the same time. Car A travels west at an average speed of x miles per hour and car B travels south at an average speed of y miles per hour. Write a program that prompts the user to enter the average speed of both the cars and the elapsed time (in hours and minutes) and outputs the (shortest) distance between the cars."
      ],
      "metadata": {
        "id": "gAxw_xVk25qO"
      }
    },
    {
      "cell_type": "code",
      "source": [
        "# Write your code here\n",
        "import math\n",
        "x=float(input(\"Enter average speed of car A in miles/hour: \"))\n",
        "y=float(input(\"Enter average speed of car B in miles/hour: \"))\n",
        "hours=int(input(\"Enter how many hours elasped: \"))\n",
        "mins=int(input(\"Enter how many minutes elasped: \"))\n",
        "#convert minutes to hours\n",
        "time=hours+mins/60\n",
        "#distances traveled by cars A and B.\n",
        "dist_A=x*time\n",
        "dist_B=y*time\n",
        "#shortest distance\n",
        "dist=math.sqrt(dist_A**2+dist_B**2)\n",
        "print(\"The distance between cars in miles: \")\n",
        "print(dist)"
      ],
      "metadata": {
        "id": "nMPuZXsH26nW",
        "outputId": "8b088ac8-8930-434b-b892-76ea6c6e49f4",
        "colab": {
          "base_uri": "https://localhost:8080/"
        }
      },
      "execution_count": 10,
      "outputs": [
        {
          "output_type": "stream",
          "name": "stdout",
          "text": [
            "Enter average speed of car A in miles/hour: 45\n",
            "Enter average speed of car B in miles/hour: 50\n",
            "Enter how many hours elasped: 2\n",
            "Enter how many minutes elasped: 12\n",
            "The distance between cars in miles: \n",
            "147.98986451781084\n"
          ]
        }
      ]
    },
    {
      "cell_type": "markdown",
      "source": [
        "### Troubleshooting\n",
        "\n",
        "Please troubleshoot the following issue **without using Python**, and explain your reasoning.\n",
        "\n",
        "a. ```hello = \"hello\"```  \n",
        "b. ```_var = 100```  \n",
        "c. ```!var_1 = 200```  \n",
        "d. ```print = \"print me\"```  \n",
        "e. ```False = 0```  "
      ],
      "metadata": {
        "id": "V0l5fqK-NJ2n"
      }
    },
    {
      "cell_type": "markdown",
      "source": [
        "Write your answer here\n",
        "a. is fine\n",
        "b. varible's names cannot start with underscore\n",
        "c.variable's name cannot have !.\n",
        "d.variable's name cannot be print. Print is a reserved word.\n",
        "e.False cannot be a variable name. it's a keyword."
      ],
      "metadata": {
        "id": "Cz8CqobPNO8n"
      }
    },
    {
      "cell_type": "markdown",
      "source": [
        "## Challenges\n",
        "\n",
        "Please describe the challenges you faced during the exercise."
      ],
      "metadata": {
        "id": "xQzjxKdvvbyo"
      }
    },
    {
      "cell_type": "markdown",
      "source": [
        "Write your challenges here\n",
        "The challenge was figuring out to import math library in the car problem."
      ],
      "metadata": {
        "id": "qfJNpTB5EbY4"
      }
    }
  ]
}