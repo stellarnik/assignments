{
  "nbformat": 4,
  "nbformat_minor": 0,
  "metadata": {
    "colab": {
      "provenance": [],
      "include_colab_link": true
    },
    "kernelspec": {
      "name": "python3",
      "display_name": "Python 3"
    },
    "language_info": {
      "name": "python"
    }
  },
  "cells": [
    {
      "cell_type": "markdown",
      "metadata": {
        "id": "view-in-github",
        "colab_type": "text"
      },
      "source": [
        "<a href=\"https://colab.research.google.com/github/stellarnik/assignments/blob/main/Tuples.ipynb\" target=\"_parent\"><img src=\"https://colab.research.google.com/assets/colab-badge.svg\" alt=\"Open In Colab\"/></a>"
      ]
    },
    {
      "cell_type": "markdown",
      "source": [
        "# Tuples in Python\n",
        "A tuple in Python is an ordered, immutable sequence of elements. Tuples are defined using parentheses and can contain elements of different data types, including other tuples. Once a tuple is created, its elements cannot be modified, added, or removed. This immutability makes tuples suitable for representing fixed collections of data.\n",
        "\n",
        "## Objective\n",
        "- Comprehend the application of tuples\n",
        "- Understand how a tuple uses a memory\n",
        "- Apply various operations on tuples\n",
        "\n",
        "## Prerequisite\n",
        "\n",
        "- Lists\n",
        "- Decision and loops\n",
        "- Input functions\n",
        "- Python literals\n",
        "- Programming variables\n",
        "\n",
        "\n",
        "## What do you need to complete this exercise?\n",
        "\n",
        "You can perform this exercise in any Python IDE, including JupyterLab or Google Colab.\n"
      ],
      "metadata": {
        "id": "2ITy4ycVFXBq"
      }
    },
    {
      "cell_type": "markdown",
      "source": [
        "# 1. Exercising tuples\n",
        "\n",
        "1a) Take five inputs from an user and save it in a tuple called ```my_tuple```"
      ],
      "metadata": {
        "id": "uQxH0KO0tsDc"
      }
    },
    {
      "cell_type": "code",
      "source": [
        "# Write your code here.\n",
        "input1= input(\"Enter your first name: \")\n",
        "input2 = input(\"Enter your last name: \")\n",
        "input3 = int(input(\"Enter your age: \"))\n",
        "input4 = int(input(\"Enter number of classes you are taking: \"))\n",
        "input5 = input(\"Enter your favorite movie: \")\n",
        "my_tuple = (input1, input2, input3, input4, input5)\n",
        "print(my_tuple)"
      ],
      "metadata": {
        "id": "rRTflD1C9mjt",
        "outputId": "d9255654-fff7-49cd-bbc2-afff50d40fe1",
        "colab": {
          "base_uri": "https://localhost:8080/"
        }
      },
      "execution_count": 1,
      "outputs": [
        {
          "output_type": "stream",
          "name": "stdout",
          "text": [
            "Enter your first name: Nik\n",
            "Enter your last name: Starr\n",
            "Enter your age: 23\n",
            "Enter number of classes you are taking: 2\n",
            "Enter your favorite movie: Percy Jackson\n",
            "('Nik', 'Starr', 23, 2, 'Percy Jackson')\n"
          ]
        }
      ]
    },
    {
      "cell_type": "markdown",
      "source": [
        "1b. How do you assign a single element in a tuple?"
      ],
      "metadata": {
        "id": "0jkTuRdlA6sk"
      }
    },
    {
      "cell_type": "code",
      "source": [
        "# Write your code here.\n",
        "my_tuple1=(15,)\n",
        "print(my_tuple1)"
      ],
      "metadata": {
        "id": "8ZIVOfAMQt2Z",
        "outputId": "60822a52-c44d-44cd-b717-153bde2c1ed2",
        "colab": {
          "base_uri": "https://localhost:8080/"
        }
      },
      "execution_count": 4,
      "outputs": [
        {
          "output_type": "stream",
          "name": "stdout",
          "text": [
            "(15,)\n"
          ]
        }
      ]
    },
    {
      "cell_type": "markdown",
      "source": [
        "1c. ```my_tuple = (1,2,3,4,3,2,1,2,3,5,4,3,2,1)```\n",
        "Count the repeated integers and print the result on the console."
      ],
      "metadata": {
        "id": "Wv1LOaouA_Gq"
      }
    },
    {
      "cell_type": "code",
      "source": [
        "# Write your code here.\n",
        "my_tuple = (1,2,3,4,3,2,1,2,3,5,4,3,2,1)\n",
        "print(\"Integer 1 repeated:\", my_tuple.count(1), \"times\")\n",
        "print(\"Integer 2 repeated:\", my_tuple.count(2), \"times\")\n",
        "print(\"Integer 3 repeated:\", my_tuple.count(3), \"times\")\n",
        "print(\"Integer 4 repeated:\", my_tuple.count(4), \"times\")\n",
        "print(\"Integer 5 repeated:\", my_tuple.count(5), \"times\")"
      ],
      "metadata": {
        "id": "cF0UyMIqQ8V3",
        "outputId": "444b7e53-e097-40cb-fda7-b2a5520a8a9d",
        "colab": {
          "base_uri": "https://localhost:8080/"
        }
      },
      "execution_count": 7,
      "outputs": [
        {
          "output_type": "stream",
          "name": "stdout",
          "text": [
            "Integer 1 repeated: 3 times\n",
            "Integer 2 repeated: 4 times\n",
            "Integer 3 repeated: 4 times\n",
            "Integer 4 repeated: 2 times\n",
            "Integer 5 repeated: 1 times\n"
          ]
        }
      ]
    },
    {
      "cell_type": "markdown",
      "source": [
        "1d. ```my_tuple = my_tuple + my_tuple```\n",
        "\n",
        "\n",
        "Proof that ```my_tuple``` in part c is different than the ```my_tuple``` in part d.\n"
      ],
      "metadata": {
        "id": "0IWZsl7LBGvD"
      }
    },
    {
      "cell_type": "code",
      "source": [
        "# Write your code here.\n",
        "my_tuple = (1,2,3,4,3,2,1,2,3,5,4,3,2,1)\n",
        "my_tuple = my_tuple + my_tuple\n",
        "print(my_tuple)"
      ],
      "metadata": {
        "id": "S5kO371-Q_NL",
        "outputId": "18948e28-b205-4e2e-9ea3-fab3ae89258e",
        "colab": {
          "base_uri": "https://localhost:8080/"
        }
      },
      "execution_count": 8,
      "outputs": [
        {
          "output_type": "stream",
          "name": "stdout",
          "text": [
            "(1, 2, 3, 4, 3, 2, 1, 2, 3, 5, 4, 3, 2, 1, 1, 2, 3, 4, 3, 2, 1, 2, 3, 5, 4, 3, 2, 1)\n"
          ]
        }
      ]
    },
    {
      "cell_type": "markdown",
      "source": [
        "1e. Explain why the following operations aren’t legal for\n",
        "the tuple. Answer without using the Python.\n",
        "```\n",
        "x = (1,2,3,4)\n",
        "x.append(1)\n",
        "x[1] = \"hello\"\n",
        "del x[2]\n",
        "```"
      ],
      "metadata": {
        "id": "gdub5W3O0isl"
      }
    },
    {
      "cell_type": "markdown",
      "source": [
        "Write your response here."
      ],
      "metadata": {
        "id": "sLoX5Dtt0_rX"
      }
    },
    {
      "cell_type": "markdown",
      "source": [
        "Tuple are immutable data structures. They cant be appended or deleted. Tuples can be sliced, concatenated and repeated."
      ],
      "metadata": {
        "id": "Yq34NKKkY1Wp"
      }
    },
    {
      "cell_type": "markdown",
      "source": [
        "# 2. Packing and unpacking tuples"
      ],
      "metadata": {
        "id": "tJlIQIYjBPLX"
      }
    },
    {
      "cell_type": "markdown",
      "source": [
        "Python permits tuples to appear on the left side of an assignment operator, in which case variables in the tuple receive the corresponding values from the tuple on the right side of the assignment operator. Here’s a simple example:"
      ],
      "metadata": {
        "id": "QkNQDkq7zAOr"
      }
    },
    {
      "cell_type": "code",
      "source": [
        "(one, two, three, four) =  (1, 2, 3, 4)"
      ],
      "metadata": {
        "id": "70JnWsa6zE0M"
      },
      "execution_count": 9,
      "outputs": []
    },
    {
      "cell_type": "markdown",
      "source": [
        "2a. What is the data type of each variable?\n",
        "Integer"
      ],
      "metadata": {
        "id": "O0-uz6MdzJ4a"
      }
    },
    {
      "cell_type": "markdown",
      "source": [
        "2b. Python has an extended unpacking feature, allowing an element marked with * to absorb any number of elements not matching the other elements. For example,"
      ],
      "metadata": {
        "id": "6vXaWJBczn5u"
      }
    },
    {
      "cell_type": "code",
      "source": [
        "x = (1, 2, 3, 4)\n",
        "a, b, *c = x\n",
        "a, b, c"
      ],
      "metadata": {
        "colab": {
          "base_uri": "https://localhost:8080/"
        },
        "id": "Dkgby1wqzyx8",
        "outputId": "d759257d-5a49-4c5d-d22d-2b252a62c8ca"
      },
      "execution_count": null,
      "outputs": [
        {
          "output_type": "execute_result",
          "data": {
            "text/plain": [
              "(1, 2, [3, 4])"
            ]
          },
          "metadata": {},
          "execution_count": 2
        }
      ]
    },
    {
      "cell_type": "markdown",
      "source": [
        "2c. What will be the result of ```a, *b, c = x```?"
      ],
      "metadata": {
        "id": "l9xBGV0K0L6_"
      }
    },
    {
      "cell_type": "code",
      "source": [
        "# Write your code here.\n",
        "x=(1,2,3,4)\n",
        "a, *b, c=x\n",
        "a, b, c"
      ],
      "metadata": {
        "id": "fQr5X9N0RceU",
        "outputId": "901a1809-7002-4431-ad6c-9ab0c9f2f286",
        "colab": {
          "base_uri": "https://localhost:8080/"
        }
      },
      "execution_count": 10,
      "outputs": [
        {
          "output_type": "execute_result",
          "data": {
            "text/plain": [
              "(1, [2, 3], 4)"
            ]
          },
          "metadata": {},
          "execution_count": 10
        }
      ]
    },
    {
      "cell_type": "markdown",
      "source": [
        "# 3. Memory management\n",
        "\n",
        "```\n",
        "my_x = [100,200,300,400]\n",
        "my_y = (200,300,400,500)\n",
        "\n",
        "```\n",
        "Discuss how memory addresses are assigned to each index of the list and the tuple. Pay attention to new addresses & re-used addresses.\n",
        "\n",
        "| Index | my_x | my_x |\n",
        "|   -   |  -   |  -   |\n",
        "|   0   |   -  |  -   |\n",
        "|   1   |   -  |  -   |\n",
        "|   2   |   -  |  -   |\n",
        "|   3   |   -  |  -   |\n",
        "\n"
      ],
      "metadata": {
        "id": "QV96NnL82MPT"
      }
    },
    {
      "cell_type": "code",
      "source": [
        "my_x = [100,200,300,400]\n",
        "my_y = (200,300,400,500)\n",
        "print(\"address of my_x list: \", id(my_x))\n",
        "print(\"address of my_y tuple: \", id(my_y))\n",
        "print(\"Index my_x my_y\")\n",
        "for i in range(4):\n",
        "  print(i, id(my_x[i]), id(my_y[i]))"
      ],
      "metadata": {
        "id": "CjeC6SEvWvcs",
        "outputId": "addab43f-3ab9-46ed-d75e-58ba5a7350f3",
        "colab": {
          "base_uri": "https://localhost:8080/"
        }
      },
      "execution_count": 17,
      "outputs": [
        {
          "output_type": "stream",
          "name": "stdout",
          "text": [
            "address of my_x list:  135361778263040\n",
            "address of my_y tuple:  135361777372432\n",
            "Index my_x my_y\n",
            "0 10754024 10757224\n",
            "1 10757224 135361777393328\n",
            "2 135361777392400 135361777392208\n",
            "3 135361777392368 135361777392080\n"
          ]
        }
      ]
    },
    {
      "cell_type": "markdown",
      "source": [
        "## Challenges\n",
        "\n",
        "Please describe the challenges you faced during the exercise."
      ],
      "metadata": {
        "id": "xQzjxKdvvbyo"
      }
    },
    {
      "cell_type": "markdown",
      "source": [
        "Write your challenges here"
      ],
      "metadata": {
        "id": "qfJNpTB5EbY4"
      }
    },
    {
      "cell_type": "markdown",
      "source": [
        "The memory addresses were challening."
      ],
      "metadata": {
        "id": "L9qUEPyka97C"
      }
    }
  ]
}