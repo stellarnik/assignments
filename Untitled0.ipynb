{
  "nbformat": 4,
  "nbformat_minor": 0,
  "metadata": {
    "colab": {
      "provenance": [],
      "authorship_tag": "ABX9TyNJy2tBS0K1WH28Vl7/1DRx",
      "include_colab_link": true
    },
    "kernelspec": {
      "name": "python3",
      "display_name": "Python 3"
    },
    "language_info": {
      "name": "python"
    }
  },
  "cells": [
    {
      "cell_type": "markdown",
      "metadata": {
        "id": "view-in-github",
        "colab_type": "text"
      },
      "source": [
        "<a href=\"https://colab.research.google.com/github/stellarnik/assignments/blob/main/Untitled0.ipynb\" target=\"_parent\"><img src=\"https://colab.research.google.com/assets/colab-badge.svg\" alt=\"Open In Colab\"/></a>"
      ]
    },
    {
      "cell_type": "code",
      "execution_count": 7,
      "metadata": {
        "colab": {
          "base_uri": "https://localhost:8080/"
        },
        "id": "ckSpc6LUPrCT",
        "outputId": "defcd237-dd9e-4f28-ee65-9abaf67dcbd3"
      },
      "outputs": [
        {
          "output_type": "stream",
          "name": "stdout",
          "text": [
            "Number of words =  8\n",
            "Average length =  4.875\n"
          ]
        }
      ],
      "source": [
        "#This program will read a file and caculate number of words and average length of words\n",
        "def word_stats(filename):\n",
        "  word_file=open(filename)\n",
        "  num_words=0\n",
        "  num_letters=0\n",
        "  for line in word_file:\n",
        "    words=line.split()\n",
        "    num_words+=len(words)\n",
        "    for word in words:\n",
        "      num_letters+=len(word)\n",
        "  print(\"Number of words = \", num_words)\n",
        "  print(\"Average length = \", num_letters/num_words)\n",
        "word_stats(\"word.txt\")"
      ]
    }
  ]
}