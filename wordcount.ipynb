{
  "nbformat": 4,
  "nbformat_minor": 0,
  "metadata": {
    "colab": {
      "provenance": [],
      "authorship_tag": "ABX9TyNJy2tBS0K1WH28Vl7/1DRx",
      "include_colab_link": true
    },
    "kernelspec": {
      "name": "python3",
      "display_name": "Python 3"
    },
    "language_info": {
      "name": "python"
    }
  },
  "cells": [
    {
      "cell_type": "markdown",
      "metadata": {
        "id": "view-in-github",
        "colab_type": "text"
      },
      "source": [
        "<a href=\"https://colab.research.google.com/github/stellarnik/assignments/blob/main/wordcount.ipynb\" target=\"_parent\"><img src=\"https://colab.research.google.com/assets/colab-badge.svg\" alt=\"Open In Colab\"/></a>"
      ]
    },
    {
      "cell_type": "code",
      "execution_count": 8,
      "metadata": {
        "colab": {
          "base_uri": "https://localhost:8080/"
        },
        "id": "ckSpc6LUPrCT",
        "outputId": "826af36f-0b8b-48f7-ffc3-3f01b1af9f1f"
      },
      "outputs": [
        {
          "output_type": "stream",
          "name": "stdout",
          "text": [
            "Number of words =  8\n",
            "Average length =  4.875\n"
          ]
        }
      ],
      "source": [
        "#This program will read a file and caculate number of words and average length of words\n",
        "def word_stats(filename):\n",
        "  word_file=open(filename)\n",
        "  num_words=0\n",
        "  num_letters=0\n",
        "  for line in word_file:\n",
        "    words=line.split()\n",
        "    num_words+=len(words)\n",
        "    for word in words:\n",
        "      num_letters+=len(word)\n",
        "  print(\"Number of words = \", num_words)\n",
        "  print(\"Average length = \", num_letters/num_words)\n",
        "word_stats(\"word.txt\")"
      ]
    }
  ]
}